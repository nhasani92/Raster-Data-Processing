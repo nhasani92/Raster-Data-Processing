{
 "cells": [
  {
   "cell_type": "code",
   "execution_count": 3,
   "id": "15d61a5a",
   "metadata": {},
   "outputs": [
    {
     "name": "stdout",
     "output_type": "stream",
     "text": [
      "Hello\n"
     ]
    }
   ],
   "source": [
    "print('Hello')\n",
    "x=1"
   ]
  },
  {
   "cell_type": "code",
   "execution_count": 16,
   "id": "fb925bd7",
   "metadata": {},
   "outputs": [],
   "source": [
    "if x<0:\n",
    "    print('Hello')\n",
    "    print('Pyhton')"
   ]
  },
  {
   "cell_type": "code",
   "execution_count": 9,
   "id": "ad768ecb",
   "metadata": {},
   "outputs": [],
   "source": [
    "n=10"
   ]
  },
  {
   "cell_type": "code",
   "execution_count": 10,
   "id": "6b265734",
   "metadata": {},
   "outputs": [
    {
     "name": "stdout",
     "output_type": "stream",
     "text": [
      "10\n"
     ]
    }
   ],
   "source": [
    "print(n)"
   ]
  },
  {
   "cell_type": "code",
   "execution_count": 17,
   "id": "4e508cc4",
   "metadata": {},
   "outputs": [],
   "source": [
    "n=10\n",
    "a=1.3\n",
    "b='dff'\n",
    "c=True\n",
    "d=complex(1,7)"
   ]
  },
  {
   "cell_type": "code",
   "execution_count": 20,
   "id": "fc3e3e3d",
   "metadata": {},
   "outputs": [
    {
     "name": "stdout",
     "output_type": "stream",
     "text": [
      "1.3\n"
     ]
    }
   ],
   "source": [
    "print(a)"
   ]
  },
  {
   "cell_type": "code",
   "execution_count": 21,
   "id": "fb68b0ea",
   "metadata": {},
   "outputs": [
    {
     "name": "stdout",
     "output_type": "stream",
     "text": [
      "abc\n"
     ]
    }
   ],
   "source": [
    "s='abc'\n",
    "print(s)"
   ]
  },
  {
   "cell_type": "code",
   "execution_count": 23,
   "id": "929a207c",
   "metadata": {},
   "outputs": [
    {
     "name": "stdout",
     "output_type": "stream",
     "text": [
      "C:\\some\\name\n"
     ]
    }
   ],
   "source": [
    "print('C:\\\\some\\\\name')"
   ]
  },
  {
   "cell_type": "code",
   "execution_count": 25,
   "id": "5aa320b2",
   "metadata": {},
   "outputs": [
    {
     "data": {
      "text/plain": [
       "\"doesn't\""
      ]
     },
     "execution_count": 25,
     "metadata": {},
     "output_type": "execute_result"
    }
   ],
   "source": [
    "'doesn\\'t'"
   ]
  },
  {
   "cell_type": "code",
   "execution_count": 27,
   "id": "8e121604",
   "metadata": {},
   "outputs": [
    {
     "name": "stdout",
     "output_type": "stream",
     "text": [
      "C:\\some\\name\n"
     ]
    }
   ],
   "source": [
    "print(r'C:\\some\\name')"
   ]
  },
  {
   "cell_type": "code",
   "execution_count": 30,
   "id": "a84ad253",
   "metadata": {},
   "outputs": [],
   "source": [
    "word = 'Python'"
   ]
  },
  {
   "cell_type": "code",
   "execution_count": 31,
   "id": "09c101ed",
   "metadata": {},
   "outputs": [
    {
     "data": {
      "text/plain": [
       "'P'"
      ]
     },
     "execution_count": 31,
     "metadata": {},
     "output_type": "execute_result"
    }
   ],
   "source": [
    "word[0]"
   ]
  },
  {
   "cell_type": "code",
   "execution_count": 32,
   "id": "d48a823a",
   "metadata": {},
   "outputs": [
    {
     "data": {
      "text/plain": [
       "'o'"
      ]
     },
     "execution_count": 32,
     "metadata": {},
     "output_type": "execute_result"
    }
   ],
   "source": [
    "word[4]"
   ]
  },
  {
   "cell_type": "code",
   "execution_count": 33,
   "id": "9eb01cc2",
   "metadata": {},
   "outputs": [
    {
     "data": {
      "text/plain": [
       "'t'"
      ]
     },
     "execution_count": 33,
     "metadata": {},
     "output_type": "execute_result"
    }
   ],
   "source": [
    "word[2]"
   ]
  },
  {
   "cell_type": "code",
   "execution_count": 34,
   "id": "11eb2eae",
   "metadata": {},
   "outputs": [
    {
     "data": {
      "text/plain": [
       "'h'"
      ]
     },
     "execution_count": 34,
     "metadata": {},
     "output_type": "execute_result"
    }
   ],
   "source": [
    "word[-3]"
   ]
  },
  {
   "cell_type": "code",
   "execution_count": 35,
   "id": "65b211ee",
   "metadata": {},
   "outputs": [
    {
     "data": {
      "text/plain": [
       "'ho'"
      ]
     },
     "execution_count": 35,
     "metadata": {},
     "output_type": "execute_result"
    }
   ],
   "source": [
    "word[3:5]"
   ]
  },
  {
   "cell_type": "code",
   "execution_count": 36,
   "id": "05c936b7",
   "metadata": {},
   "outputs": [
    {
     "data": {
      "text/plain": [
       "'t'"
      ]
     },
     "execution_count": 36,
     "metadata": {},
     "output_type": "execute_result"
    }
   ],
   "source": [
    "word[2]"
   ]
  },
  {
   "cell_type": "code",
   "execution_count": 37,
   "id": "2cada90f",
   "metadata": {},
   "outputs": [
    {
     "data": {
      "text/plain": [
       "'thon'"
      ]
     },
     "execution_count": 37,
     "metadata": {},
     "output_type": "execute_result"
    }
   ],
   "source": [
    "word[2:6]"
   ]
  },
  {
   "cell_type": "code",
   "execution_count": 38,
   "id": "1346a44c",
   "metadata": {},
   "outputs": [
    {
     "data": {
      "text/plain": [
       "'Pyth'"
      ]
     },
     "execution_count": 38,
     "metadata": {},
     "output_type": "execute_result"
    }
   ],
   "source": [
    "word[:4]"
   ]
  },
  {
   "cell_type": "code",
   "execution_count": 39,
   "id": "1ab6f66e",
   "metadata": {},
   "outputs": [
    {
     "data": {
      "text/plain": [
       "'Python'"
      ]
     },
     "execution_count": 39,
     "metadata": {},
     "output_type": "execute_result"
    }
   ],
   "source": [
    "word[:2] + word[2:]"
   ]
  },
  {
   "cell_type": "code",
   "execution_count": 40,
   "id": "268eaa6b",
   "metadata": {},
   "outputs": [
    {
     "data": {
      "text/plain": [
       "'Py'"
      ]
     },
     "execution_count": 40,
     "metadata": {},
     "output_type": "execute_result"
    }
   ],
   "source": [
    "word[:2]"
   ]
  },
  {
   "cell_type": "code",
   "execution_count": 41,
   "id": "ceb30d4c",
   "metadata": {},
   "outputs": [
    {
     "data": {
      "text/plain": [
       "'on'"
      ]
     },
     "execution_count": 41,
     "metadata": {},
     "output_type": "execute_result"
    }
   ],
   "source": [
    "word[4:]"
   ]
  },
  {
   "cell_type": "code",
   "execution_count": 43,
   "id": "7f8ff3d4",
   "metadata": {},
   "outputs": [
    {
     "data": {
      "text/plain": [
       "'on'"
      ]
     },
     "execution_count": 43,
     "metadata": {},
     "output_type": "execute_result"
    }
   ],
   "source": [
    "word[-2:]"
   ]
  },
  {
   "cell_type": "code",
   "execution_count": 44,
   "id": "7b6961df",
   "metadata": {},
   "outputs": [],
   "source": [
    "square = [1,4,6,8,9]"
   ]
  },
  {
   "cell_type": "code",
   "execution_count": 45,
   "id": "f299c476",
   "metadata": {},
   "outputs": [
    {
     "data": {
      "text/plain": [
       "[1, 4, 6, 8, 9]"
      ]
     },
     "execution_count": 45,
     "metadata": {},
     "output_type": "execute_result"
    }
   ],
   "source": [
    "square"
   ]
  },
  {
   "cell_type": "code",
   "execution_count": 49,
   "id": "ac089f15",
   "metadata": {},
   "outputs": [
    {
     "data": {
      "text/plain": [
       "5"
      ]
     },
     "execution_count": 49,
     "metadata": {},
     "output_type": "execute_result"
    }
   ],
   "source": [
    "len(square)"
   ]
  },
  {
   "cell_type": "code",
   "execution_count": 50,
   "id": "fa51ff27",
   "metadata": {},
   "outputs": [
    {
     "data": {
      "text/plain": [
       "8"
      ]
     },
     "execution_count": 50,
     "metadata": {},
     "output_type": "execute_result"
    }
   ],
   "source": [
    "square[-2]"
   ]
  },
  {
   "cell_type": "code",
   "execution_count": 52,
   "id": "682e493b",
   "metadata": {},
   "outputs": [
    {
     "data": {
      "text/plain": [
       "[4, 6, 8, 9]"
      ]
     },
     "execution_count": 52,
     "metadata": {},
     "output_type": "execute_result"
    }
   ],
   "source": [
    "square[-4:]"
   ]
  },
  {
   "cell_type": "code",
   "execution_count": 53,
   "id": "def30b5b",
   "metadata": {},
   "outputs": [
    {
     "data": {
      "text/plain": [
       "[1, 4, 6, 8, 9, 445, 458, 459, 458]"
      ]
     },
     "execution_count": 53,
     "metadata": {},
     "output_type": "execute_result"
    }
   ],
   "source": [
    "square + [445,458,459,458]"
   ]
  },
  {
   "cell_type": "code",
   "execution_count": 54,
   "id": "aad0709b",
   "metadata": {},
   "outputs": [],
   "source": [
    "cube = [65,54,58,74,14]"
   ]
  },
  {
   "cell_type": "code",
   "execution_count": 56,
   "id": "f8554a38",
   "metadata": {},
   "outputs": [
    {
     "data": {
      "text/plain": [
       "[65, 54, 58, 74, 89]"
      ]
     },
     "execution_count": 56,
     "metadata": {},
     "output_type": "execute_result"
    }
   ],
   "source": [
    "cube[4] = 89\n",
    "cube"
   ]
  },
  {
   "cell_type": "code",
   "execution_count": 57,
   "id": "19edd50e",
   "metadata": {},
   "outputs": [
    {
     "data": {
      "text/plain": [
       "[65, 54, 115, 74, 89]"
      ]
     },
     "execution_count": 57,
     "metadata": {},
     "output_type": "execute_result"
    }
   ],
   "source": [
    "cube[2] = 115\n",
    "cube"
   ]
  },
  {
   "cell_type": "code",
   "execution_count": 58,
   "id": "19b44857",
   "metadata": {},
   "outputs": [],
   "source": [
    "letter = ['a','b','c','d','e','f','g','h']"
   ]
  },
  {
   "cell_type": "code",
   "execution_count": 59,
   "id": "d7f3fd57",
   "metadata": {},
   "outputs": [
    {
     "data": {
      "text/plain": [
       "['a', 'b', 'c', 'R', 'T', 'f', 'g', 'h']"
      ]
     },
     "execution_count": 59,
     "metadata": {},
     "output_type": "execute_result"
    }
   ],
   "source": [
    "letter[3:5] = ['R','T']\n",
    "letter"
   ]
  },
  {
   "cell_type": "code",
   "execution_count": 60,
   "id": "b70d5bab",
   "metadata": {},
   "outputs": [
    {
     "data": {
      "text/plain": [
       "[]"
      ]
     },
     "execution_count": 60,
     "metadata": {},
     "output_type": "execute_result"
    }
   ],
   "source": [
    "letter[:] = []\n",
    "letter"
   ]
  },
  {
   "cell_type": "code",
   "execution_count": 61,
   "id": "dd338394",
   "metadata": {},
   "outputs": [],
   "source": [
    "letter.clear()"
   ]
  },
  {
   "cell_type": "code",
   "execution_count": 62,
   "id": "b7cc5835",
   "metadata": {},
   "outputs": [],
   "source": [
    "fruits = ['orange','apple','graps','mango','banana','apple','mango']"
   ]
  },
  {
   "cell_type": "code",
   "execution_count": 63,
   "id": "ce4c8102",
   "metadata": {},
   "outputs": [
    {
     "data": {
      "text/plain": [
       "2"
      ]
     },
     "execution_count": 63,
     "metadata": {},
     "output_type": "execute_result"
    }
   ],
   "source": [
    "fruits.count('apple')"
   ]
  },
  {
   "cell_type": "code",
   "execution_count": 64,
   "id": "313e553c",
   "metadata": {},
   "outputs": [
    {
     "data": {
      "text/plain": [
       "2"
      ]
     },
     "execution_count": 64,
     "metadata": {},
     "output_type": "execute_result"
    }
   ],
   "source": [
    "fruits.count('mango')"
   ]
  },
  {
   "cell_type": "code",
   "execution_count": 65,
   "id": "7df5517c",
   "metadata": {},
   "outputs": [
    {
     "data": {
      "text/plain": [
       "2"
      ]
     },
     "execution_count": 65,
     "metadata": {},
     "output_type": "execute_result"
    }
   ],
   "source": [
    "fruits.index('graps')"
   ]
  },
  {
   "cell_type": "code",
   "execution_count": 66,
   "id": "e895ab9d",
   "metadata": {},
   "outputs": [
    {
     "data": {
      "text/plain": [
       "3"
      ]
     },
     "execution_count": 66,
     "metadata": {},
     "output_type": "execute_result"
    }
   ],
   "source": [
    "fruits.index('mango')"
   ]
  },
  {
   "cell_type": "code",
   "execution_count": 69,
   "id": "07be82ed",
   "metadata": {},
   "outputs": [
    {
     "data": {
      "text/plain": [
       "6"
      ]
     },
     "execution_count": 69,
     "metadata": {},
     "output_type": "execute_result"
    }
   ],
   "source": [
    "fruits.index('mango', 4)"
   ]
  },
  {
   "cell_type": "code",
   "execution_count": 70,
   "id": "5f1bb4de",
   "metadata": {},
   "outputs": [
    {
     "data": {
      "text/plain": [
       "['mango', 'apple', 'banana', 'mango', 'graps', 'apple', 'orange']"
      ]
     },
     "execution_count": 70,
     "metadata": {},
     "output_type": "execute_result"
    }
   ],
   "source": [
    "fruits.reverse()\n",
    "fruits"
   ]
  },
  {
   "cell_type": "code",
   "execution_count": 72,
   "id": "99a9eb7a",
   "metadata": {},
   "outputs": [
    {
     "data": {
      "text/plain": [
       "['mango', 'apple', 'banana', 'mango', 'graps', 'apple', 'orange', 'mango']"
      ]
     },
     "execution_count": 72,
     "metadata": {},
     "output_type": "execute_result"
    }
   ],
   "source": [
    "fruits.append('mango')\n",
    "fruits"
   ]
  },
  {
   "cell_type": "code",
   "execution_count": 73,
   "id": "651fb646",
   "metadata": {},
   "outputs": [
    {
     "data": {
      "text/plain": [
       "(1254, 6589, 'hello!', 2.356)"
      ]
     },
     "execution_count": 73,
     "metadata": {},
     "output_type": "execute_result"
    }
   ],
   "source": [
    "t = 1254, 6589, 'hello!', 2.356\n",
    "t"
   ]
  },
  {
   "cell_type": "code",
   "execution_count": 77,
   "id": "227d0d5c",
   "metadata": {},
   "outputs": [
    {
     "data": {
      "text/plain": [
       "2.356"
      ]
     },
     "execution_count": 77,
     "metadata": {},
     "output_type": "execute_result"
    }
   ],
   "source": [
    "t[-1]"
   ]
  },
  {
   "cell_type": "code",
   "execution_count": 78,
   "id": "ab00d6ec",
   "metadata": {},
   "outputs": [],
   "source": [
    "u = t, (1,2,3,4,5,6)"
   ]
  },
  {
   "cell_type": "code",
   "execution_count": 79,
   "id": "680c5ee5",
   "metadata": {},
   "outputs": [
    {
     "data": {
      "text/plain": [
       "((1254, 6589, 'hello!', 2.356), (1, 2, 3, 4, 5, 6))"
      ]
     },
     "execution_count": 79,
     "metadata": {},
     "output_type": "execute_result"
    }
   ],
   "source": [
    "u"
   ]
  },
  {
   "cell_type": "code",
   "execution_count": 80,
   "id": "b08680a1",
   "metadata": {},
   "outputs": [
    {
     "data": {
      "text/plain": [
       "4"
      ]
     },
     "execution_count": 80,
     "metadata": {},
     "output_type": "execute_result"
    }
   ],
   "source": [
    "u[1][3]"
   ]
  },
  {
   "cell_type": "code",
   "execution_count": 81,
   "id": "b9093c6c",
   "metadata": {},
   "outputs": [],
   "source": [
    "t=1,2,3"
   ]
  },
  {
   "cell_type": "code",
   "execution_count": 82,
   "id": "ecfec38b",
   "metadata": {},
   "outputs": [
    {
     "name": "stdout",
     "output_type": "stream",
     "text": [
      "1\n",
      "2\n",
      "3\n"
     ]
    }
   ],
   "source": [
    "x,y,z = t\n",
    "print(x)\n",
    "print(y)\n",
    "print(z)"
   ]
  },
  {
   "cell_type": "code",
   "execution_count": 84,
   "id": "ef9624d9",
   "metadata": {},
   "outputs": [],
   "source": [
    "basket = {'mango', 'apple', 'banana', 'mango', 'graps', 'apple', 'orange'}"
   ]
  },
  {
   "cell_type": "code",
   "execution_count": 85,
   "id": "ec271e07",
   "metadata": {},
   "outputs": [
    {
     "name": "stdout",
     "output_type": "stream",
     "text": [
      "{'orange', 'mango', 'banana', 'graps', 'apple'}\n"
     ]
    }
   ],
   "source": [
    "print(basket)"
   ]
  },
  {
   "cell_type": "code",
   "execution_count": 86,
   "id": "6651f1b3",
   "metadata": {},
   "outputs": [
    {
     "data": {
      "text/plain": [
       "True"
      ]
     },
     "execution_count": 86,
     "metadata": {},
     "output_type": "execute_result"
    }
   ],
   "source": [
    "'mango' in basket"
   ]
  },
  {
   "cell_type": "code",
   "execution_count": 87,
   "id": "e910100f",
   "metadata": {},
   "outputs": [
    {
     "name": "stdout",
     "output_type": "stream",
     "text": [
      "{'b', 'c', 'a', 'd'}\n",
      "{'b', 'c', 'a'}\n"
     ]
    }
   ],
   "source": [
    "a = set('abcd')\n",
    "b = set('abc')\n",
    "print(a)\n",
    "print(b)"
   ]
  },
  {
   "cell_type": "code",
   "execution_count": 89,
   "id": "1ef19b56",
   "metadata": {},
   "outputs": [
    {
     "data": {
      "text/plain": [
       "{'d'}"
      ]
     },
     "execution_count": 89,
     "metadata": {},
     "output_type": "execute_result"
    }
   ],
   "source": [
    "a-b"
   ]
  },
  {
   "cell_type": "code",
   "execution_count": 90,
   "id": "e2f6825e",
   "metadata": {},
   "outputs": [
    {
     "data": {
      "text/plain": [
       "{'Ajay: 4589', 'Juveria: 4587', 'Mohsin: 2568', 'Sabila: 6987'}"
      ]
     },
     "execution_count": 90,
     "metadata": {},
     "output_type": "execute_result"
    }
   ],
   "source": [
    "telephone = {'ajay: 4589', 'mohsin: 2568', 'sabila: 6987', 'juveria: 4587'}\n",
    "telephone"
   ]
  },
  {
   "cell_type": "code",
   "execution_count": 96,
   "id": "02fd721b",
   "metadata": {},
   "outputs": [
    {
     "ename": "TypeError",
     "evalue": "'set' object does not support item assignment",
     "output_type": "error",
     "traceback": [
      "\u001b[1;31m---------------------------------------------------------------------------\u001b[0m",
      "\u001b[1;31mTypeError\u001b[0m                                 Traceback (most recent call last)",
      "\u001b[1;32m~\\AppData\\Local\\Temp/ipykernel_6832/3437621233.py\u001b[0m in \u001b[0;36m<module>\u001b[1;34m\u001b[0m\n\u001b[1;32m----> 1\u001b[1;33m \u001b[0mtelephone\u001b[0m\u001b[1;33m[\u001b[0m\u001b[1;34m'jay'\u001b[0m\u001b[1;33m]\u001b[0m \u001b[1;33m=\u001b[0m \u001b[1;36m4175\u001b[0m\u001b[1;33m\u001b[0m\u001b[1;33m\u001b[0m\u001b[0m\n\u001b[0m\u001b[0;32m      2\u001b[0m \u001b[0mtelephone\u001b[0m\u001b[1;33m\u001b[0m\u001b[1;33m\u001b[0m\u001b[0m\n",
      "\u001b[1;31mTypeError\u001b[0m: 'set' object does not support item assignment"
     ]
    }
   ],
   "source": [
    "telephone['jay'] = 4175\n",
    "telephone"
   ]
  },
  {
   "cell_type": "code",
   "execution_count": 92,
   "id": "7d3dc8ad",
   "metadata": {},
   "outputs": [
    {
     "ename": "TypeError",
     "evalue": "'set' object is not subscriptable",
     "output_type": "error",
     "traceback": [
      "\u001b[1;31m---------------------------------------------------------------------------\u001b[0m",
      "\u001b[1;31mTypeError\u001b[0m                                 Traceback (most recent call last)",
      "\u001b[1;32m~\\AppData\\Local\\Temp/ipykernel_6832/1445375038.py\u001b[0m in \u001b[0;36m<module>\u001b[1;34m\u001b[0m\n\u001b[1;32m----> 1\u001b[1;33m \u001b[0mtelephone\u001b[0m\u001b[1;33m[\u001b[0m\u001b[1;34m'Juveria'\u001b[0m\u001b[1;33m]\u001b[0m\u001b[1;33m\u001b[0m\u001b[1;33m\u001b[0m\u001b[0m\n\u001b[0m",
      "\u001b[1;31mTypeError\u001b[0m: 'set' object is not subscriptable"
     ]
    }
   ],
   "source": [
    "telephone['Juveria']"
   ]
  },
  {
   "cell_type": "code",
   "execution_count": 94,
   "id": "121866ee",
   "metadata": {},
   "outputs": [
    {
     "ename": "TypeError",
     "evalue": "'set' object does not support item deletion",
     "output_type": "error",
     "traceback": [
      "\u001b[1;31m---------------------------------------------------------------------------\u001b[0m",
      "\u001b[1;31mTypeError\u001b[0m                                 Traceback (most recent call last)",
      "\u001b[1;32m~\\AppData\\Local\\Temp/ipykernel_6832/1961445965.py\u001b[0m in \u001b[0;36m<module>\u001b[1;34m\u001b[0m\n\u001b[1;32m----> 1\u001b[1;33m \u001b[1;32mdel\u001b[0m \u001b[0mtelephone\u001b[0m\u001b[1;33m[\u001b[0m\u001b[1;34m'Mohsin'\u001b[0m\u001b[1;33m]\u001b[0m\u001b[1;33m\u001b[0m\u001b[1;33m\u001b[0m\u001b[0m\n\u001b[0m",
      "\u001b[1;31mTypeError\u001b[0m: 'set' object does not support item deletion"
     ]
    }
   ],
   "source": [
    "del telephone['Mohsin']"
   ]
  },
  {
   "cell_type": "code",
   "execution_count": 97,
   "id": "2bdd6c0f",
   "metadata": {},
   "outputs": [
    {
     "name": "stdout",
     "output_type": "stream",
     "text": [
      "Light is Green\n",
      "Go\n"
     ]
    }
   ],
   "source": [
    "traffic_light = 'green'\n",
    "if traffic_light == 'green':\n",
    "    print('Light is Green')\n",
    "    print('Go')\n",
    "else:\n",
    "    print('Light is not Green')"
   ]
  },
  {
   "cell_type": "code",
   "execution_count": 4,
   "id": "0679fb80",
   "metadata": {},
   "outputs": [
    {
     "name": "stdout",
     "output_type": "stream",
     "text": [
      "Unknown Traffic Light\n"
     ]
    }
   ],
   "source": [
    "traffic_light = 'xyz'\n",
    "if traffic_light == 'green':\n",
    "    print('Light is Green')\n",
    "elif traffic_light=='yellow':\n",
    "    print('Light is Yellow')\n",
    "elif traffic_light == 'red':\n",
    "    print('Light is Red')\n",
    "else:\n",
    "    print('Unknown Traffic Light')"
   ]
  },
  {
   "cell_type": "code",
   "execution_count": 5,
   "id": "5da6bda0",
   "metadata": {},
   "outputs": [],
   "source": [
    "n=0"
   ]
  },
  {
   "cell_type": "code",
   "execution_count": 6,
   "id": "0e4fc0b0",
   "metadata": {},
   "outputs": [
    {
     "name": "stdout",
     "output_type": "stream",
     "text": [
      "Value of n is 0\n",
      "Value of n is 1\n",
      "Value of n is 2\n",
      "Value of n is 3\n",
      "Value of n is 4\n",
      "Value of n is 5\n",
      "Value of n is 6\n",
      "Value of n is 7\n",
      "Value of n is 8\n",
      "Value of n is 9\n"
     ]
    }
   ],
   "source": [
    "while n<10:\n",
    "    print('Value of n is',n)\n",
    "    n=n+1"
   ]
  },
  {
   "cell_type": "code",
   "execution_count": 8,
   "id": "31ef4fe5",
   "metadata": {},
   "outputs": [
    {
     "name": "stdout",
     "output_type": "stream",
     "text": [
      "cat 3\n",
      "window 6\n",
      "information 11\n"
     ]
    }
   ],
   "source": [
    "words = ['cat','window','information']\n",
    "for w in words:\n",
    "    print(w,len(w))"
   ]
  },
  {
   "cell_type": "code",
   "execution_count": 9,
   "id": "7fd0a6ea",
   "metadata": {},
   "outputs": [
    {
     "name": "stdout",
     "output_type": "stream",
     "text": [
      "0,1,2,3,4,5,"
     ]
    }
   ],
   "source": [
    "for i in range(6):\n",
    "    print(i,end=',')"
   ]
  },
  {
   "cell_type": "code",
   "execution_count": 10,
   "id": "bb70ebd0",
   "metadata": {},
   "outputs": [
    {
     "name": "stdout",
     "output_type": "stream",
     "text": [
      "6,7,8,9,10,11,12,13,14,15,16,17,18,19,20,"
     ]
    }
   ],
   "source": [
    "for i in range(6,21):\n",
    "    print(i,end=',')"
   ]
  },
  {
   "cell_type": "code",
   "execution_count": 12,
   "id": "16ef9769",
   "metadata": {},
   "outputs": [
    {
     "name": "stdout",
     "output_type": "stream",
     "text": [
      "6,9,"
     ]
    }
   ],
   "source": [
    "for i in range(6,10,3):\n",
    "    print(i,end=',')"
   ]
  },
  {
   "cell_type": "code",
   "execution_count": 13,
   "id": "84b78bf3",
   "metadata": {},
   "outputs": [
    {
     "name": "stdout",
     "output_type": "stream",
     "text": [
      "0\n",
      "1\n",
      "2\n",
      "3\n",
      "4\n",
      "5\n",
      "end\n"
     ]
    }
   ],
   "source": [
    "for i in range(7):\n",
    "    if i==6:\n",
    "        break\n",
    "    print(i)\n",
    "print('end')"
   ]
  },
  {
   "cell_type": "code",
   "execution_count": 14,
   "id": "5c1972b3",
   "metadata": {},
   "outputs": [
    {
     "name": "stdout",
     "output_type": "stream",
     "text": [
      "0\n",
      "1\n",
      "2\n",
      "3\n",
      "5\n",
      "6\n"
     ]
    }
   ],
   "source": [
    "for i in range(7):\n",
    "    if i==4:\n",
    "        continue\n",
    "    print(i)"
   ]
  },
  {
   "cell_type": "code",
   "execution_count": 15,
   "id": "7b55254c",
   "metadata": {},
   "outputs": [
    {
     "name": "stdout",
     "output_type": "stream",
     "text": [
      "2 is an even number\n",
      "3 is a number\n",
      "4 is an even number\n",
      "5 is a number\n",
      "6 is an even number\n",
      "7 is a number\n",
      "8 is an even number\n",
      "9 is a number\n"
     ]
    }
   ],
   "source": [
    "for n in range(2,10):\n",
    "    if n%2==0:\n",
    "        print(n,'is an even number')\n",
    "        continue\n",
    "    print(n,'is a number')"
   ]
  },
  {
   "cell_type": "code",
   "execution_count": 19,
   "id": "b8eabd97",
   "metadata": {
    "scrolled": true
   },
   "outputs": [
    {
     "name": "stdout",
     "output_type": "stream",
     "text": [
      "Found 10\n"
     ]
    }
   ],
   "source": [
    "for i in [10,5,7,2,3]:\n",
    "    if i==10:\n",
    "        print('Found 10')\n",
    "        break\n",
    "else:\n",
    "    print('Not found 10')"
   ]
  },
  {
   "cell_type": "markdown",
   "id": "e26a7d32",
   "metadata": {},
   "source": [
    "Function"
   ]
  },
  {
   "cell_type": "code",
   "execution_count": 21,
   "id": "09894d11",
   "metadata": {},
   "outputs": [],
   "source": [
    "def check_odd_even(i):\n",
    "    if i%2==0:\n",
    "        print(i,'is a even number')\n",
    "    else:\n",
    "        print(i,'is odd number')"
   ]
  },
  {
   "cell_type": "code",
   "execution_count": 23,
   "id": "38cb5d09",
   "metadata": {},
   "outputs": [
    {
     "name": "stdout",
     "output_type": "stream",
     "text": [
      "14 is a even number\n"
     ]
    }
   ],
   "source": [
    "check_odd_even(14)"
   ]
  },
  {
   "cell_type": "code",
   "execution_count": 25,
   "id": "0f4d816e",
   "metadata": {},
   "outputs": [
    {
     "name": "stdout",
     "output_type": "stream",
     "text": [
      "19 is odd number\n"
     ]
    }
   ],
   "source": [
    "check_odd_even(19)"
   ]
  },
  {
   "cell_type": "markdown",
   "id": "dde9b219",
   "metadata": {},
   "source": [
    "Default Value Argument"
   ]
  },
  {
   "cell_type": "code",
   "execution_count": 41,
   "id": "de8bc381",
   "metadata": {},
   "outputs": [],
   "source": [
    "def calc_intrest(principal,rate=5,time=5):\n",
    "    intrest=(principal*rate*time)/100\n",
    "    amount=intrest+principal\n",
    "    print('Principle Amount=',principal)\n",
    "    print('Rate=',rate)\n",
    "    print('Time=',time)\n",
    "    print('Total Amount=',amount)"
   ]
  },
  {
   "cell_type": "code",
   "execution_count": 42,
   "id": "48557f67",
   "metadata": {},
   "outputs": [
    {
     "name": "stdout",
     "output_type": "stream",
     "text": [
      "Principle Amount= 10\n",
      "Rate= 5\n",
      "Time= 5\n",
      "Total Amount= 12.5\n"
     ]
    }
   ],
   "source": [
    "calc_intrest(10)"
   ]
  },
  {
   "cell_type": "code",
   "execution_count": 43,
   "id": "93865c01",
   "metadata": {},
   "outputs": [
    {
     "name": "stdout",
     "output_type": "stream",
     "text": [
      "Principle Amount= 10\n",
      "Rate= 10\n",
      "Time= 5\n",
      "Total Amount= 15.0\n"
     ]
    }
   ],
   "source": [
    "calc_intrest(10,rate=10)"
   ]
  },
  {
   "cell_type": "code",
   "execution_count": 44,
   "id": "ec838c00",
   "metadata": {},
   "outputs": [
    {
     "name": "stdout",
     "output_type": "stream",
     "text": [
      "Principle Amount= 10\n",
      "Rate= 10\n",
      "Time= 10\n",
      "Total Amount= 20.0\n"
     ]
    }
   ],
   "source": [
    "calc_intrest(10,rate=10,time=10)"
   ]
  },
  {
   "cell_type": "markdown",
   "id": "c9aaf910",
   "metadata": {},
   "source": [
    "Reading File"
   ]
  },
  {
   "cell_type": "code",
   "execution_count": 53,
   "id": "178b99ed",
   "metadata": {},
   "outputs": [],
   "source": [
    "import os\n",
    "os.chdir('D:\\Resume')"
   ]
  },
  {
   "cell_type": "code",
   "execution_count": 56,
   "id": "a0bf5977",
   "metadata": {},
   "outputs": [
    {
     "name": "stdout",
     "output_type": "stream",
     "text": [
      "Start Pixel Infotech \n",
      "Arun - 8936979201, 7902072050\n",
      "Meeting Schedule- Monday 5am evening\n",
      "------------------------------------------------------------------\n"
     ]
    }
   ],
   "source": [
    "f = open('Client.txt','r')\n",
    "line=f.read()\n",
    "print(line)"
   ]
  },
  {
   "cell_type": "markdown",
   "id": "6370785d",
   "metadata": {},
   "source": [
    "Read large File"
   ]
  },
  {
   "cell_type": "code",
   "execution_count": 58,
   "id": "74487877",
   "metadata": {},
   "outputs": [
    {
     "name": "stdout",
     "output_type": "stream",
     "text": [
      "Dear Recruiting Manager,\n",
      "                                           I found the perfect combination of my experience with Remote Sensing & GIS mapping to work in the field of geospatial technology. I have gained 3 years of experience as research scholar working with government organization in the field of remote sensing and GIS for various purpose. I worked on the designing and development of web-based GIS application with open-source technology and also processed the Sentinel-10m for LULC with machine learning. I also participated in in handling ENFUSER Air Quality Modal on AADITYA 790+ Teraflops High-Performance Computing System for comparative study of air quality degradation due to Particulate Matter over New Delhi.\n",
      "                                                                                                                                            During my master studies at Remote Sensing Applications Centre located in U.P, I have studied Remote Sensing, GIS, Digital Image Processing, Global Positing System and advance Remote Sensing techniques. I also gained experience in handling DGPS, LIDAR and Total station for accurate measurement for error free data, I have participated in the state-level workshop on Gram Panchayat â€“ Based assets mapping program using BHUVAN mobile application under the EPRIS project sponsored by the National Remote Sensing Centre, Hyderabad (ISRO)/ Dept. of Space, Govt., of India.I did my internship and project work at National Remote Sensing Centre, Hyderabad (ISRO), there I developed Web-based GIS application for health assessment name Bhuvan SEHAT (Spatial Enrichment Health Assets Technology) and also developed an application implemented for two sections of SDGs, i.e., gender equality (section 5 of SDG) and quality education (section 4 of SDG) using various technologies like Web crawlers, NLP and Web-GIS. I have high level of flexibility as well as autonomy and would be glad to travel worldwide related to the work requirement.\n",
      "                                    Together with my academic qualification and professional experience, I believe I am a suitable candidate for the advertised position. I am looking forward to get the chance for knowing me personally. Thanks a lot for your attention.\n",
      "\n",
      "Sincerely,\n",
      "Nusrat Ullah Hasani\n",
      "\n"
     ]
    }
   ],
   "source": [
    "f = open('cover_letter.txt','r')\n",
    "for line in f:\n",
    "    print(line,end='')\n",
    "f.close()"
   ]
  },
  {
   "cell_type": "markdown",
   "id": "f07f4709",
   "metadata": {},
   "source": [
    "(with-construct) will automatically closes the file."
   ]
  },
  {
   "cell_type": "code",
   "execution_count": 61,
   "id": "e7dcea40",
   "metadata": {},
   "outputs": [
    {
     "name": "stdout",
     "output_type": "stream",
     "text": [
      "Dear Recruiting Manager,\n",
      "                                           I found the perfect combination of my experience with Remote Sensing & GIS mapping to work in the field of geospatial technology. I have gained 3 years of experience as research scholar working with government organization in the field of remote sensing and GIS for various purpose. I worked on the designing and development of web-based GIS application with open-source technology and also processed the Sentinel-10m for LULC with machine learning. I also participated in in handling ENFUSER Air Quality Modal on AADITYA 790+ Teraflops High-Performance Computing System for comparative study of air quality degradation due to Particulate Matter over New Delhi.\n",
      "                                                                                                                                            During my master studies at Remote Sensing Applications Centre located in U.P, I have studied Remote Sensing, GIS, Digital Image Processing, Global Positing System and advance Remote Sensing techniques. I also gained experience in handling DGPS, LIDAR and Total station for accurate measurement for error free data, I have participated in the state-level workshop on Gram Panchayat â€“ Based assets mapping program using BHUVAN mobile application under the EPRIS project sponsored by the National Remote Sensing Centre, Hyderabad (ISRO)/ Dept. of Space, Govt., of India.I did my internship and project work at National Remote Sensing Centre, Hyderabad (ISRO), there I developed Web-based GIS application for health assessment name Bhuvan SEHAT (Spatial Enrichment Health Assets Technology) and also developed an application implemented for two sections of SDGs, i.e., gender equality (section 5 of SDG) and quality education (section 4 of SDG) using various technologies like Web crawlers, NLP and Web-GIS. I have high level of flexibility as well as autonomy and would be glad to travel worldwide related to the work requirement.\n",
      "                                    Together with my academic qualification and professional experience, I believe I am a suitable candidate for the advertised position. I am looking forward to get the chance for knowing me personally. Thanks a lot for your attention.\n",
      "\n",
      "Sincerely,\n",
      "Nusrat Ullah Hasani\n",
      "\n"
     ]
    }
   ],
   "source": [
    "with open('cover_letter.txt','r')as f:\n",
    "    for line in f:\n",
    "        print(line,end='')"
   ]
  },
  {
   "cell_type": "code",
   "execution_count": 62,
   "id": "c3b67bb4",
   "metadata": {},
   "outputs": [
    {
     "data": {
      "text/plain": [
       "True"
      ]
     },
     "execution_count": 62,
     "metadata": {},
     "output_type": "execute_result"
    }
   ],
   "source": [
    "f.closed"
   ]
  },
  {
   "cell_type": "markdown",
   "id": "f646e939",
   "metadata": {},
   "source": [
    "Create file and Writing into file"
   ]
  },
  {
   "cell_type": "code",
   "execution_count": 65,
   "id": "9c2b32e6",
   "metadata": {},
   "outputs": [],
   "source": [
    "value = ('My name is Nusrat', 9161633786)\n",
    "with open('contact.txt','w') as f:\n",
    "    s=str(value)\n",
    "    f.write(s)"
   ]
  },
  {
   "cell_type": "code",
   "execution_count": null,
   "id": "9ae8a66e",
   "metadata": {},
   "outputs": [],
   "source": []
  }
 ],
 "metadata": {
  "kernelspec": {
   "display_name": "Python 3 (ipykernel)",
   "language": "python",
   "name": "python3"
  },
  "language_info": {
   "codemirror_mode": {
    "name": "ipython",
    "version": 3
   },
   "file_extension": ".py",
   "mimetype": "text/x-python",
   "name": "python",
   "nbconvert_exporter": "python",
   "pygments_lexer": "ipython3",
   "version": "3.9.7"
  }
 },
 "nbformat": 4,
 "nbformat_minor": 5
}
